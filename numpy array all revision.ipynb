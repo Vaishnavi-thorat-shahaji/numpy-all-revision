{
 "cells": [
  {
   "cell_type": "code",
   "execution_count": 12,
   "id": "ee122194",
   "metadata": {},
   "outputs": [
    {
     "name": "stdout",
     "output_type": "stream",
     "text": [
      "[10 20 30 40 50 60 70]\n",
      "((0,), 10)\n",
      "((1,), 20)\n",
      "((2,), 30)\n",
      "((3,), 40)\n",
      "((4,), 50)\n",
      "((5,), 60)\n",
      "((6,), 70)\n",
      "[[11 22 33]\n",
      " [44 55 66]]\n",
      "((0, 0), 11)\n",
      "((0, 1), 22)\n",
      "((0, 2), 33)\n",
      "((1, 0), 44)\n",
      "((1, 1), 55)\n",
      "((1, 2), 66)\n",
      "[[[11 12 13 14 15 16 17 18]]]\n",
      "((0, 0, 0), 11)\n",
      "((0, 0, 1), 12)\n",
      "((0, 0, 2), 13)\n",
      "((0, 0, 3), 14)\n",
      "((0, 0, 4), 15)\n",
      "((0, 0, 5), 16)\n",
      "((0, 0, 6), 17)\n",
      "((0, 0, 7), 18)\n"
     ]
    },
    {
     "data": {
      "text/plain": [
       "11"
      ]
     },
     "execution_count": 12,
     "metadata": {},
     "output_type": "execute_result"
    }
   ],
   "source": [
    "# ndnumerate\n",
    "import numpy as np\n",
    "arr = np.array([10,20,30,40,50,60,70])\n",
    "print(arr)\n",
    "for i in np.ndenumerate(arr):\n",
    "    print(i)\n",
    "arr = np.array([[11,22,33],[44,55,66]])\n",
    "print(arr)\n",
    "for x in np.ndenumerate(arr):\n",
    "    print(x)\n",
    "ar = np.array([[[11,12,13,14,15,16,17,18]]])\n",
    "print(ar)\n",
    "for i in np.ndenumerate(ar):\n",
    "    print(i)\n",
    "ar[0][0][1]    \n",
    "ar[0][0][0]"
   ]
  },
  {
   "cell_type": "code",
   "execution_count": 18,
   "id": "53f302b6",
   "metadata": {},
   "outputs": [
    {
     "name": "stdout",
     "output_type": "stream",
     "text": [
      "[1 2 3 4 5 6]\n",
      "[[10 20 30]\n",
      " [40 50 60]]\n",
      "[[[11 22 33]]\n",
      "\n",
      " [[44 55 66]]]\n",
      "[1 2 3 4 5 6]\n",
      "[[11 22 33 44 55 66 77 88]]\n",
      "[[[10 20 30 40 50 60 70 80]]]\n"
     ]
    }
   ],
   "source": [
    "# joining array\n",
    "arr = np.array([1,2,3])\n",
    "arr1 = np.array([4,5,6])\n",
    "arr2 = np.concatenate((arr,arr1))\n",
    "print(arr2)\n",
    "arr = np.array([[10,20,30]])\n",
    "arr1 = np.array([[40,50,60]])\n",
    "arr3 = np.concatenate((arr,arr1))\n",
    "print(arr3)\n",
    "arr = np.array([[[11,22,33]]])\n",
    "arr1 = np.array([[[44,55,66]]])\n",
    "arr2 = np.concatenate((arr,arr1))\n",
    "print(arr2)\n",
    "arr1 = np.array([1,2,3])\n",
    "arr2 = np.array([4,5,6])\n",
    "arr3 = np.concatenate((arr1,arr2),axis=0)\n",
    "print(arr3)\n",
    "arr1 = np.array([[11,22,33,44]])\n",
    "arr2 = np.array([[55,66,77,88]])\n",
    "arr3 = np.concatenate((arr1,arr2),axis=1)\n",
    "print(arr3)\n",
    "arr1 = np.array([[[10,20,30,40]]])\n",
    "arr2 = np.array([[[50,60,70,80]]])\n",
    "arr3 = np.concatenate((arr1,arr2),axis=2)\n",
    "print(arr3)"
   ]
  },
  {
   "cell_type": "code",
   "execution_count": 22,
   "id": "3085505a",
   "metadata": {},
   "outputs": [
    {
     "name": "stdout",
     "output_type": "stream",
     "text": [
      "[[1 2 3 4]\n",
      " [5 6 7 8]]\n",
      "[[[10 20 30]]\n",
      "\n",
      " [[40 50 60]]\n",
      "\n",
      " [[70 80 90]]]\n",
      "[[[[11 12 13]]]\n",
      "\n",
      "\n",
      " [[[14 15 16]]]]\n"
     ]
    }
   ],
   "source": [
    "# using stack function\n",
    "arr = np.array([1,2,3,4])\n",
    "arr1 = np.array([5,6,7,8])\n",
    "arr2 = np.stack((arr,arr1))\n",
    "print(arr2)\n",
    "arr1 = np.array([[10,20,30]])\n",
    "arr2 = np.array([[40,50,60]])\n",
    "arr3 = np.array([[70,80,90]])\n",
    "arr4 = np.stack((arr1,arr2,arr3))\n",
    "print(arr4)\n",
    "arr1 = np.array([[[11,12,13]]])\n",
    "arr2 = np.array([[[14,15,16]]])\n",
    "arr3 = np.array((arr1,arr2))\n",
    "print(arr3)"
   ]
  },
  {
   "cell_type": "code",
   "execution_count": 32,
   "id": "2d0b920d",
   "metadata": {},
   "outputs": [
    {
     "name": "stdout",
     "output_type": "stream",
     "text": [
      "[[1 4]\n",
      " [2 5]\n",
      " [3 6]]\n",
      "[[1 2 3]\n",
      " [4 5 6]]\n",
      "[[[11 12 13]\n",
      "  [14 15 16]]]\n",
      "[[[11 12 13]]\n",
      "\n",
      " [[14 15 16]]]\n",
      "[[[[11 22 33]\n",
      "   [44 55 66]]]]\n",
      "[[[[11 22 33]]\n",
      "\n",
      "  [[44 55 66]]]]\n",
      "[[[[11 22 33]]]\n",
      "\n",
      "\n",
      " [[[44 55 66]]]]\n"
     ]
    }
   ],
   "source": [
    "# stack usin axis \n",
    "arr1 = np.array([1,2,3])\n",
    "arr2 = np.array([4,5,6])\n",
    "arr3 = np.stack((arr1,arr2),axis=1)\n",
    "print(arr3)\n",
    "arr3 = np.stack((arr1,arr2),axis=0)\n",
    "print(arr3)\n",
    "arr = np.array([[11,12,13]])\n",
    "arr1 = np.array([[14,15,16]])\n",
    "arr2 = np.stack((arr,arr1),axis=1)\n",
    "print(arr2)\n",
    "arr2 = np.stack((arr,arr1),axis=0)\n",
    "print(arr2)\n",
    "arr = np.array([[[11,22,33]]])\n",
    "arr1 = np.array([[[44,55,66]]])\n",
    "arr2 = np.stack((arr,arr1),axis=2)\n",
    "print(arr2)\n",
    "arr2 = np.stack((arr,arr1),axis=1)\n",
    "print(arr2)\n",
    "arr2 = np.stack((arr,arr1),axis=0)\n",
    "print(arr2)"
   ]
  },
  {
   "cell_type": "code",
   "execution_count": 35,
   "id": "611cffa8",
   "metadata": {},
   "outputs": [
    {
     "name": "stdout",
     "output_type": "stream",
     "text": [
      "[1 2 3 4 5 6]\n",
      "[[11 22 33 44 55 66]]\n",
      "[[[10 20 30]\n",
      "  [40 50 60]]]\n"
     ]
    }
   ],
   "source": [
    "# hstack\n",
    "a = np.array([1,2,3])\n",
    "b = np.array([4,5,6])\n",
    "c = np.hstack((a,b))\n",
    "print(c)\n",
    "a = np.array([[11,22,33]])\n",
    "b = np.array([[44,55,66]])\n",
    "c = np.hstack((a,b))\n",
    "print(c)\n",
    "a = np.array([[[10,20,30]]])\n",
    "b = np.array([[[40,50,60]]])\n",
    "c = np.hstack((a,b))\n",
    "print(c)"
   ]
  },
  {
   "cell_type": "code",
   "execution_count": 38,
   "id": "61d7009e",
   "metadata": {},
   "outputs": [
    {
     "name": "stdout",
     "output_type": "stream",
     "text": [
      "[[1 2 3]\n",
      " [4 5 6]]\n",
      "[[11 22 33]\n",
      " [44 55 66]]\n",
      "[[[10 20 30]]\n",
      "\n",
      " [[40 50 60]]]\n"
     ]
    }
   ],
   "source": [
    "# vstack\n",
    "a = np.array([1,2,3])\n",
    "b = np.array([4,5,6])\n",
    "c = np.vstack((a,b))\n",
    "print(c)\n",
    "a = np.array([[11,22,33]])\n",
    "b = np.array([[44,55,66]])\n",
    "c = np.vstack((a,b))\n",
    "print(c)\n",
    "a = np.array([[[10,20,30]]])\n",
    "b = np.array([[[40,50,60]]])\n",
    "c = np.vstack((a,b))\n",
    "print(c)"
   ]
  },
  {
   "cell_type": "code",
   "execution_count": 41,
   "id": "754e526c",
   "metadata": {},
   "outputs": [
    {
     "name": "stdout",
     "output_type": "stream",
     "text": [
      "[[[1 4]\n",
      "  [2 5]\n",
      "  [3 6]]]\n",
      "[[[10 40]\n",
      "  [20 50]\n",
      "  [30 60]]]\n",
      "[[[11 12 13 14 15 16]]]\n"
     ]
    }
   ],
   "source": [
    "# dstack\n",
    "ar = np.array([1,2,3])\n",
    "ar1 = np.array([4,5,6])\n",
    "ar2 = np.dstack((ar,ar1))\n",
    "print(ar2)\n",
    "a = np.array([[10,20,30]])\n",
    "b = np.array([[40,50,60]])\n",
    "c = np.dstack((a,b))\n",
    "print(c)\n",
    "a = np.array([[[11,12,13]]])\n",
    "b = np.array([[[14,15,16]]])\n",
    "c = np.dstack((a,b))\n",
    "print(c)"
   ]
  },
  {
   "cell_type": "code",
   "execution_count": 53,
   "id": "a3b3ed76",
   "metadata": {},
   "outputs": [
    {
     "name": "stdout",
     "output_type": "stream",
     "text": [
      "[1 2 3 4 5 6]\n",
      "[array([1, 2]), array([3, 4]), array([5, 6])]\n",
      "[[10 20 30]\n",
      " [40 50 60]]\n",
      "[array([[10, 20, 30]]), array([[40, 50, 60]])]\n",
      "[[[11 22 33 44]\n",
      "  [55 66 77 88]]]\n",
      "[array([[[11, 22, 33, 44],\n",
      "        [55, 66, 77, 88]]])]\n"
     ]
    }
   ],
   "source": [
    "# array spliiting\n",
    "arr = np.array([1,2,3,4,5,6])\n",
    "print(arr)\n",
    "a = np.split(arr,3)\n",
    "print(a)\n",
    "arr = np.array([[10,20,30],[40,50,60]])\n",
    "print(arr)\n",
    "a = np.split(arr,2)\n",
    "print(a)\n",
    "arr = np.array([[[11,22,33,44],[55,66,77,88]]])\n",
    "print(arr)\n",
    "a = np.split(arr,1)\n",
    "print(a)"
   ]
  },
  {
   "cell_type": "code",
   "execution_count": 57,
   "id": "10adc143",
   "metadata": {},
   "outputs": [
    {
     "name": "stdout",
     "output_type": "stream",
     "text": [
      "[10 20 30 40 50 60 70 80]\n",
      "[array([10, 20, 30, 40]), array([50, 60, 70, 80])]\n",
      "[[11 22 33 44]\n",
      " [55 66 77 88]]\n",
      "[array([[11, 22],\n",
      "       [55, 66]]), array([[33, 44],\n",
      "       [77, 88]])]\n",
      "[[[11 12 13]\n",
      "  [14 15 16]]]\n",
      "[array([[[11],\n",
      "        [14]]]), array([[[12],\n",
      "        [15]]]), array([[[13],\n",
      "        [16]]])]\n",
      "[array([[[11, 12, 13]]]), array([[[14, 15, 16]]])]\n"
     ]
    }
   ],
   "source": [
    "# split usin axis\n",
    "a = np.array([10,20,30,40,50,60,70,80])\n",
    "print(a)\n",
    "b = np.split(a,2,axis=0)\n",
    "print(b)\n",
    "a = np.array([[11,22,33,44],[55,66,77,88]])\n",
    "print(a)\n",
    "b = np.split(a,2,axis=1)\n",
    "print(b)\n",
    "a = np.array([[[11,12,13],[14,15,16]]])\n",
    "print(a)\n",
    "b = np.split(a,3,axis=2)\n",
    "print(b)\n",
    "b = np.split(a,2,axis=1)\n",
    "print(b)"
   ]
  },
  {
   "cell_type": "code",
   "execution_count": 63,
   "id": "cdec9daf",
   "metadata": {},
   "outputs": [
    {
     "name": "stdout",
     "output_type": "stream",
     "text": [
      "[1 2 3 4 5 6 7 8]\n",
      "[array([1, 2, 3, 4]), array([5, 6, 7, 8])]\n",
      "[[10 20 30]\n",
      " [40 50 60]]\n",
      "[array([[10, 20, 30]]), array([[40, 50, 60]])]\n",
      "[[[11 12 13 14]\n",
      "  [15 16 17 18]]]\n",
      "[array([[[11, 12, 13, 14],\n",
      "        [15, 16, 17, 18]]]), array([], shape=(0, 2, 4), dtype=int32)]\n",
      "[[[11 12 13 14]\n",
      "  [15 16 17 18]]]\n",
      "[]\n",
      "[array([[[11, 12, 13, 14],\n",
      "        [15, 16, 17, 18]]]), array([], shape=(0, 2, 4), dtype=int32)]\n"
     ]
    }
   ],
   "source": [
    "# array split method\n",
    "a = np.array([1,2,3,4,5,6,7,8])\n",
    "print(a)\n",
    "b = np.array_split(a,2)\n",
    "print(b)\n",
    "a = np.array([[10,20,30],[40,50,60]])\n",
    "print(a)\n",
    "b = np.array_split(a,2)\n",
    "print(b)\n",
    "a = np.array([[[11,12,13,14],[15,16,17,18]]])\n",
    "print(a)\n",
    "b = np.array_split(a,2)\n",
    "print(b)\n",
    "print(b[0])\n",
    "print(b[1])\n",
    "b = np.array_split(a,2,axis=0)\n",
    "print(b)\n"
   ]
  },
  {
   "cell_type": "code",
   "execution_count": 69,
   "id": "95a3526a",
   "metadata": {},
   "outputs": [
    {
     "name": "stdout",
     "output_type": "stream",
     "text": [
      "[1 2 3 4 5 6]\n",
      "[array([1, 2, 3]), array([4, 5, 6])]\n",
      "[array([1, 2, 3]), array([4, 5, 6])]\n",
      "[[10 20 30]\n",
      " [40 50 60]]\n",
      "[array([[10, 20],\n",
      "       [40, 50]]), array([[30],\n",
      "       [60]])]\n",
      "[[[11 12 13]\n",
      "  [14 15 16]]]\n",
      "[array([[[11, 12],\n",
      "        [14, 15]]]), array([[[13],\n",
      "        [16]]])]\n"
     ]
    }
   ],
   "source": [
    "# array splitting using axis\n",
    "a = np.array([1,2,3,4,5,6])\n",
    "print(a)\n",
    "b = np.array_split(a,2,axis=0)\n",
    "print(b)\n",
    "c = np.array_split(a,2,axis=0)\n",
    "print(c)\n",
    "a = np.array([[10,20,30],[40,50,60]])\n",
    "print(a)\n",
    "b = np.array_split(a,2,axis=1)\n",
    "print(b)\n",
    "a = np.array([[[11,12,13],[14,15,16]]])\n",
    "print(a)\n",
    "b = np.array_split(a,2,axis=2)\n",
    "print(b)"
   ]
  },
  {
   "cell_type": "code",
   "execution_count": 76,
   "id": "394e4c9e",
   "metadata": {},
   "outputs": [
    {
     "name": "stdout",
     "output_type": "stream",
     "text": [
      "[array([1, 2]), array([3, 4])]\n",
      "[array([[10, 20, 30],\n",
      "       [40, 50, 60]])]\n",
      "[[[11 12 13]\n",
      "  [14 15 16]]]\n",
      "[array([[[11, 12, 13],\n",
      "        [14, 15, 16]]])]\n"
     ]
    }
   ],
   "source": [
    "# array split,hsplit,vsplit,dsplit\n",
    "a = np.array([1,2,3,4])\n",
    "b = np.hsplit(a,2)\n",
    "print(b)\n",
    "a = np.array([[10,20,30],[40,50,60]])\n",
    "b = np.hsplit(a,1)\n",
    "print(b)\n",
    "a = np.array([[[11,12,13],[14,15,16]]])\n",
    "print(a)\n",
    "b = np.hsplit(a,1)\n",
    "print(b)"
   ]
  },
  {
   "cell_type": "code",
   "execution_count": 84,
   "id": "ab411f80",
   "metadata": {},
   "outputs": [
    {
     "name": "stdout",
     "output_type": "stream",
     "text": [
      "[array([[10, 20, 30],\n",
      "       [40, 50, 60]])]\n",
      "[array([[10, 20, 30]]), array([[40, 50, 60]])]\n",
      "[array([[[11, 12, 13],\n",
      "        [14, 15, 16]]])]\n"
     ]
    }
   ],
   "source": [
    "# vsplit\n",
    "a = np.array([[10,20,30],[40,50,60]])\n",
    "b = np.vsplit(a,1)\n",
    "print(b)\n",
    "b =np.vsplit(a,2)\n",
    "print(b)\n",
    "a = np.array([[[11,12,13],[14,15,16]]])\n",
    "b = np.vsplit(a,1)\n",
    "print(b)"
   ]
  },
  {
   "cell_type": "code",
   "execution_count": 88,
   "id": "c64fd387",
   "metadata": {},
   "outputs": [
    {
     "name": "stdout",
     "output_type": "stream",
     "text": [
      "[array([[[10, 20, 30],\n",
      "        [40, 50, 60]]])]\n",
      "[[[11 12 13]\n",
      "  [14 15 16]]]\n",
      "[array([[[11, 12, 13],\n",
      "        [14, 15, 16]]])]\n"
     ]
    }
   ],
   "source": [
    "# dsplit\n",
    "a = np.array([[[10,20,30],[40,50,60]]])\n",
    "b = np.dsplit(a,1)\n",
    "print(b)\n",
    "a = np.array([[[11,12,13],[14,15,16]]])\n",
    "print(a)\n",
    "b = np.dsplit(a,1)\n",
    "print(b)"
   ]
  },
  {
   "cell_type": "code",
   "execution_count": 96,
   "id": "93ebb972",
   "metadata": {},
   "outputs": [
    {
     "name": "stdout",
     "output_type": "stream",
     "text": [
      "[1 2 3 4 5 6]\n",
      "(array([2], dtype=int64),)\n",
      "(array([3], dtype=int64),)\n",
      "(array([5], dtype=int64),)\n",
      "[[10 20 30]\n",
      " [40 50 60]]\n",
      "(array([], dtype=int64), array([], dtype=int64))\n",
      "(array([], dtype=int64), array([], dtype=int64))\n",
      "(array([], dtype=int64), array([], dtype=int64))\n"
     ]
    }
   ],
   "source": [
    "# searching array\n",
    "a = np.array([1,2,3,4,5,6])\n",
    "print(a)\n",
    "b = np.where(a==3)\n",
    "print(b)\n",
    "c = np.where(a==4)\n",
    "print(c)\n",
    "d = np.where(a==6)\n",
    "print(d)\n",
    "a = np.array([[10,20,30],[40,50,60]])\n",
    "print(a)\n",
    "b = np.where(a==2)\n",
    "print(b)\n",
    "c = np.where(a==3)\n",
    "print(c)\n",
    "d = np.where(a==0)\n",
    "print(d)\n"
   ]
  },
  {
   "cell_type": "code",
   "execution_count": 111,
   "id": "c122f8e7",
   "metadata": {},
   "outputs": [
    {
     "name": "stdout",
     "output_type": "stream",
     "text": [
      "[10 20 30]\n",
      "(array([], dtype=int64),)\n",
      "[ 9 19 29]\n",
      "[11 21 31]\n",
      "[[11 12 13]\n",
      " [14 15 16]]\n",
      "(array([], dtype=int64), array([], dtype=int64))\n",
      "[[12 13 14]\n",
      " [15 16 17]]\n",
      "[[10 11 12]\n",
      " [13 14 15]]\n",
      "[[11 12 13]\n",
      " [14 15 16]]\n",
      "[[[11 22 33]\n",
      "  [44 55 66]]]\n",
      "(array([], dtype=int64), array([], dtype=int64), array([], dtype=int64))\n",
      "[[[12 23 34]\n",
      "  [45 56 67]]]\n",
      "[[[10 21 32]\n",
      "  [43 54 65]]]\n",
      "[[[11 22 33]\n",
      "  [44 55 66]]]\n",
      "[[[11. 22. 33.]\n",
      "  [44. 55. 66.]]]\n"
     ]
    }
   ],
   "source": [
    "# searching array\n",
    "a = np.array([10,20,30])\n",
    "print(a)\n",
    "b = np.where(a==1)\n",
    "print(b)\n",
    "print(a-1)\n",
    "print(a+1)\n",
    "a = np.array([[11,12,13],[14,15,16]])\n",
    "print(a)\n",
    "b = np.where(a==2)\n",
    "print(b)\n",
    "print(a+1)\n",
    "print(a-1)\n",
    "print(a*1)\n",
    "a = np.array([[[11,22,33],[44,55,66]]])\n",
    "print(a)\n",
    "b = np.where(a==2)\n",
    "print(b)\n",
    "print(a+1)\n",
    "print(a-1)\n",
    "print(a*1)\n",
    "print(a/1)"
   ]
  },
  {
   "cell_type": "code",
   "execution_count": 114,
   "id": "b2b143de",
   "metadata": {},
   "outputs": [
    {
     "name": "stdout",
     "output_type": "stream",
     "text": [
      "[1 2 3 4 5 6]\n",
      "(array([0, 2, 4], dtype=int64),)\n",
      "[[10 20 30]\n",
      " [40 50 60]]\n",
      "(array([0, 0, 0, 1, 1, 1], dtype=int64), array([0, 1, 2, 0, 1, 2], dtype=int64))\n",
      "[[[11 12 13 14 15 16]]]\n",
      "(array([0, 0, 0], dtype=int64), array([0, 0, 0], dtype=int64), array([0, 2, 4], dtype=int64))\n"
     ]
    }
   ],
   "source": [
    "# even and odd\n",
    "arr = np.array([1,2,3,4,5,6])\n",
    "print(arr)\n",
    "a = np.where(arr%2==1)\n",
    "print(a)\n",
    "a = np.array([[10,20,30],[40,50,60]])\n",
    "print(a)\n",
    "b = np.where(a%2==0)\n",
    "print(b)\n",
    "a = np.array([[[11,12,13,14,15,16]]])\n",
    "print(a)\n",
    "b = np.where(a%2==1)\n",
    "print(b)"
   ]
  },
  {
   "cell_type": "code",
   "execution_count": 120,
   "id": "f4f1211d",
   "metadata": {},
   "outputs": [
    {
     "name": "stdout",
     "output_type": "stream",
     "text": [
      "[1 2 3 4 5 6 7]\n",
      "4\n",
      "[10 20 30 40 50]\n",
      "2\n"
     ]
    }
   ],
   "source": [
    "# searchsorted\n",
    "a = np.array([1,2,3,4,5,6,7])\n",
    "print(a)\n",
    "b = np.searchsorted(a,5)\n",
    "print(b)\n",
    "a = np.array([10,20,30,40,50])\n",
    "print(a)\n",
    "b = np.searchsorted(a,30)\n",
    "print(b)"
   ]
  },
  {
   "cell_type": "code",
   "execution_count": 124,
   "id": "958249a8",
   "metadata": {},
   "outputs": [
    {
     "name": "stdout",
     "output_type": "stream",
     "text": [
      "[11 12 13 14 15 16]\n",
      "2\n",
      "3\n",
      "1\n"
     ]
    }
   ],
   "source": [
    "# side\n",
    "a = np.array([11,12,13,14,15,16])\n",
    "print(a)\n",
    "b = np.searchsorted(a,12,side='right')\n",
    "print(b)\n",
    "b = np.searchsorted(a,13,side='right')\n",
    "print(b)\n",
    "b = np.searchsorted(a,12,side='left')\n",
    "print(b)"
   ]
  },
  {
   "cell_type": "code",
   "execution_count": 125,
   "id": "a34ec765",
   "metadata": {},
   "outputs": [
    {
     "name": "stdout",
     "output_type": "stream",
     "text": [
      "[1 2 3 4 5]\n",
      "[5 5 5]\n"
     ]
    }
   ],
   "source": [
    "# multiple values\n",
    "a = np.array([1,2,3,4,5])\n",
    "print(a)\n",
    "b = np.searchsorted(a,[11,13,15])\n",
    "print(b)"
   ]
  },
  {
   "cell_type": "code",
   "execution_count": 126,
   "id": "e88e7c02",
   "metadata": {},
   "outputs": [
    {
     "name": "stdout",
     "output_type": "stream",
     "text": [
      "[1 3 5 7 9]\n",
      "[1 2 3 4]\n"
     ]
    }
   ],
   "source": [
    "a = np.array([1,3,5,7,9])\n",
    "print(a)\n",
    "b = np.searchsorted(a,[2,4,6,8])\n",
    "print(b)"
   ]
  },
  {
   "cell_type": "code",
   "execution_count": 129,
   "id": "d02576b9",
   "metadata": {},
   "outputs": [
    {
     "name": "stdout",
     "output_type": "stream",
     "text": [
      "[1 2 3 4 5 6 7 8 9]\n",
      "[1 2 3 4 5 6 7 8 9]\n",
      "[[13 14 17 18]]\n",
      "[[13 14 17 18]]\n",
      "[[[400 300 200 100]]]\n",
      "[[[100 200 300 400]]]\n"
     ]
    }
   ],
   "source": [
    "# sorting array\n",
    "a = np.array([1,2,3,4,5,6,7,8,9])\n",
    "print(a)\n",
    "b = np.sort(a)\n",
    "print(b)\n",
    "a = np.array([[13,14,17,18]])\n",
    "print(a)\n",
    "b = np.sort(a)\n",
    "print(b)\n",
    "a = np.array([[[400,300,200,100]]])\n",
    "print(a)\n",
    "b = np.sort(a)\n",
    "print(b)"
   ]
  },
  {
   "cell_type": "code",
   "execution_count": 132,
   "id": "6e6d7a88",
   "metadata": {},
   "outputs": [
    {
     "name": "stdout",
     "output_type": "stream",
     "text": [
      "['cc' 'dd' 'aa' 'ff' 'gg']\n",
      "['aa' 'cc' 'dd' 'ff' 'gg']\n",
      "[ True False]\n",
      "[False  True]\n"
     ]
    }
   ],
   "source": [
    "# alphabetical array\n",
    "a = np.array(['cc','dd','aa','ff','gg'])\n",
    "print(a)\n",
    "b = np.sort(a)\n",
    "print(b)\n",
    "a = np.array([True,False])\n",
    "print(a)\n",
    "b = np.sort(a)\n",
    "print(b)"
   ]
  },
  {
   "cell_type": "code",
   "execution_count": 138,
   "id": "cf843020",
   "metadata": {},
   "outputs": [
    {
     "name": "stdout",
     "output_type": "stream",
     "text": [
      "[[1 2 3]\n",
      " [4 5 6]]\n",
      "[[1 2 3]\n",
      " [4 5 6]]\n",
      "[[[10 30 20]\n",
      "  [50 60 40]]]\n",
      "[[[10 20 30]\n",
      "  [40 50 60]]]\n"
     ]
    }
   ],
   "source": [
    "# sorting array using axis\n",
    "a = np.array([[1,2,3],[4,5,6]])\n",
    "print(a)\n",
    "b = np.sort(a,axis=1)\n",
    "print(b)\n",
    "a = np.array([[[10,30,20],[50,60,40]]])\n",
    "print(a)\n",
    "b = np.sort(a,axis=2)\n",
    "print(b)"
   ]
  },
  {
   "cell_type": "code",
   "execution_count": 145,
   "id": "c0dc699e",
   "metadata": {},
   "outputs": [
    {
     "name": "stdout",
     "output_type": "stream",
     "text": [
      "[10 20 40]\n",
      "[10 30 40 60]\n",
      "[1 3 4 6]\n"
     ]
    }
   ],
   "source": [
    "# filter array\n",
    "a = np.array([10,20,30,40])\n",
    "b =[True,True,False,True]\n",
    "c = a[b]\n",
    "print(c)\n",
    "a = np.array([[10,20,30],[40,50,60]])\n",
    "b =[[True,False,True],[True,False,True]]\n",
    "c= a[b]\n",
    "print(c)\n",
    "a = np.array([[[1,2,3],[4,5,6]]])\n",
    "b = [[[True,False,True],[True,False,True]]]\n",
    "c = a[b]\n",
    "print(c)"
   ]
  },
  {
   "cell_type": "code",
   "execution_count": 150,
   "id": "551c7f47",
   "metadata": {},
   "outputs": [
    {
     "name": "stdout",
     "output_type": "stream",
     "text": [
      "[1 2 3 6 5 7 9 8]\n",
      "1\n",
      "2\n",
      "3\n",
      "6\n",
      "5\n",
      "7\n",
      "9\n",
      "8\n",
      "[True, True, True, True, True, True, True, True]\n",
      "[1 2 3 6 5 7 9 8]\n"
     ]
    }
   ],
   "source": [
    "a = np.array([1,2,3,6,5,7,9,8])\n",
    "print(a)\n",
    "index=[]\n",
    "for i in a:\n",
    "    print(i)\n",
    "    if i<40:\n",
    "        index.append(True)\n",
    "    else:\n",
    "        index.append(False)\n",
    "print(index)\n",
    "ar = a[index]\n",
    "print(ar)"
   ]
  },
  {
   "cell_type": "code",
   "execution_count": 155,
   "id": "5a961f1a",
   "metadata": {},
   "outputs": [
    {
     "name": "stdout",
     "output_type": "stream",
     "text": [
      "[10 20 30 40]\n",
      "10\n",
      "20\n",
      "30\n",
      "40\n",
      "[True, True, True, True]\n",
      "[10 20 30 40]\n"
     ]
    }
   ],
   "source": [
    "a = np.array([10,20,30,40])\n",
    "print(a)\n",
    "index=[]\n",
    "for i in a:\n",
    "    print(i)\n",
    "    if i%2==0:\n",
    "        index.append(True)\n",
    "    else:\n",
    "        index.append(False)\n",
    "print(index)\n",
    "ar = a[index]\n",
    "print(ar)"
   ]
  },
  {
   "cell_type": "code",
   "execution_count": 158,
   "id": "1daac2fa",
   "metadata": {},
   "outputs": [
    {
     "name": "stdout",
     "output_type": "stream",
     "text": [
      "[ 0  1  2  3  4  5  6  7  8  9 10 11 12 13 14 15 16 17 18 19]\n",
      "<class 'numpy.ndarray'>\n",
      "[[ 0  1]\n",
      " [ 2  3]\n",
      " [ 4  5]\n",
      " [ 6  7]\n",
      " [ 8  9]\n",
      " [10 11]\n",
      " [12 13]\n",
      " [14 15]\n",
      " [16 17]\n",
      " [18 19]]\n",
      "[[[ 0]\n",
      "  [ 1]]\n",
      "\n",
      " [[ 2]\n",
      "  [ 3]]\n",
      "\n",
      " [[ 4]\n",
      "  [ 5]]\n",
      "\n",
      " [[ 6]\n",
      "  [ 7]]\n",
      "\n",
      " [[ 8]\n",
      "  [ 9]]\n",
      "\n",
      " [[10]\n",
      "  [11]]\n",
      "\n",
      " [[12]\n",
      "  [13]]\n",
      "\n",
      " [[14]\n",
      "  [15]]\n",
      "\n",
      " [[16]\n",
      "  [17]]\n",
      "\n",
      " [[18]\n",
      "  [19]]]\n"
     ]
    }
   ],
   "source": [
    "# other numpy function\n",
    "a = np.arange(20)\n",
    "print(a)\n",
    "print(type(a))\n",
    "b = a.reshape(10,2)\n",
    "print(b)\n",
    "c = a.reshape(10,2,1)\n",
    "print(c)"
   ]
  },
  {
   "cell_type": "code",
   "execution_count": 160,
   "id": "df2d189a",
   "metadata": {},
   "outputs": [
    {
     "name": "stdout",
     "output_type": "stream",
     "text": [
      "[ 0  1  2  3  4  5  6  7  8  9 10 11 12 13 14 15 16 17 18 19 20 21 22 23\n",
      " 24 25 26 27 28 29]\n",
      "<class 'numpy.ndarray'>\n",
      "0\n"
     ]
    }
   ],
   "source": [
    "a = np.arange(30)\n",
    "print(a)\n",
    "print(type(a))\n",
    "print(a[0])\n"
   ]
  },
  {
   "cell_type": "code",
   "execution_count": 176,
   "id": "61ac7ad8",
   "metadata": {},
   "outputs": [
    {
     "name": "stdout",
     "output_type": "stream",
     "text": [
      "[ 0  1  2  3  4  5  6  7  8  9 10 11 12 13 14 15 16 17 18 19 20 21 22 23\n",
      " 24 25 26 27 28 29 30 31 32 33 34 35 36 37 38 39]\n",
      "<class 'numpy.ndarray'>\n",
      "0\n",
      "39\n",
      "39\n",
      "0\n",
      "[ 0  1  2  3  4  5  6  7  8  9 10 11 12 13 14 15 16 17 18 19 20 21 22 23\n",
      " 24 25 26 27 28 29 30 31 32 33 34 35 36 37 38 39]\n",
      "780\n",
      "19.5\n",
      "(array([ 1,  2,  3,  4,  5,  6,  7,  8,  9, 10, 11, 12, 13, 14, 15, 16, 17,\n",
      "       18, 19, 20, 21, 22, 23, 24, 25, 26, 27, 28, 29, 30, 31, 32, 33, 34,\n",
      "       35, 36, 37, 38, 39], dtype=int64),)\n",
      "[[ 0  1  2  3]\n",
      " [ 4  5  6  7]\n",
      " [ 8  9 10 11]\n",
      " [12 13 14 15]\n",
      " [16 17 18 19]\n",
      " [20 21 22 23]\n",
      " [24 25 26 27]\n",
      " [28 29 30 31]\n",
      " [32 33 34 35]\n",
      " [36 37 38 39]]\n",
      "[ 0  5 10 15]\n",
      "[8.]\n",
      "[20.]\n",
      "[50.         44.55555556 39.11111111 33.66666667 28.22222222 22.77777778\n",
      " 17.33333333 11.88888889  6.44444444  1.        ]\n",
      "[8.]\n"
     ]
    }
   ],
   "source": [
    "a = np.arange(40)\n",
    "print(a)\n",
    "print(type(a))\n",
    "print(a.min())\n",
    "print(a.max())\n",
    "print(a.argmax())\n",
    "print(a.argmin())\n",
    "print(a.argsort())\n",
    "print(a.sum())\n",
    "print(a.mean())\n",
    "print(a.nonzero())\n",
    "b = a.reshape(10,4)\n",
    "print(b)\n",
    "print(b.diagonal())\n",
    "a = np.linspace(8,5,1)\n",
    "print(a)\n",
    "b = np.linspace(20,4,1)\n",
    "print(b)\n",
    "c = np.linspace(50,1,10)\n",
    "print(c)\n",
    "print(a.ravel())"
   ]
  },
  {
   "cell_type": "code",
   "execution_count": 182,
   "id": "b0c542c0",
   "metadata": {},
   "outputs": [
    {
     "name": "stdout",
     "output_type": "stream",
     "text": [
      "[ 0  1  2  3  4  5  6  7  8  9 10 11 12 13 14 15 16 17 18 19 20 21 22 23\n",
      " 24]\n",
      "<class 'numpy.ndarray'>\n",
      "[[ 1.07948268 -0.53594859  0.24326814  1.81386401 -0.79267794]\n",
      " [ 2.09604867  0.81992569 -0.33206796 -0.30319989 -0.91135068]\n",
      " [ 0.47715595 -1.24548658 -0.35996873 -0.49867136 -0.08987656]\n",
      " [ 1.86498873 -0.64463011 -0.30004743 -1.01467821 -0.53251762]\n",
      " [-0.07724586 -1.40654028  1.77728325 -1.77678195 -0.66374821]]\n",
      "[[1. 0. 0. 0. 0.]\n",
      " [0. 1. 0. 0. 0.]\n",
      " [0. 0. 1. 0. 0.]\n",
      " [0. 0. 0. 1. 0.]\n",
      " [0. 0. 0. 0. 1.]]\n",
      "[[1. 1. 1. 1. 1.]\n",
      " [1. 1. 1. 1. 1.]\n",
      " [1. 1. 1. 1. 1.]\n",
      " [1. 1. 1. 1. 1.]\n",
      " [1. 1. 1. 1. 1.]]\n",
      "[[1 0 0]\n",
      " [0 2 0]\n",
      " [0 0 3]]\n"
     ]
    }
   ],
   "source": [
    "a = np.arange(25)\n",
    "print(a)\n",
    "print(type(a))\n",
    "ar = np.random.randn(5,5)\n",
    "print(ar)\n",
    "ar = np.eye(5,5)\n",
    "print(ar)\n",
    "ar = np.ones((5,5))\n",
    "print(ar)\n",
    "arr = np.diag([1,2,3])\n",
    "print(arr)"
   ]
  },
  {
   "cell_type": "code",
   "execution_count": 183,
   "id": "8ba9e6ee",
   "metadata": {},
   "outputs": [
    {
     "name": "stdout",
     "output_type": "stream",
     "text": [
      "[1 2 3 4 5 6]\n",
      "((0,), 1)\n",
      "((1,), 2)\n",
      "((2,), 3)\n",
      "((3,), 4)\n",
      "((4,), 5)\n",
      "((5,), 6)\n"
     ]
    }
   ],
   "source": [
    "arr = np.array([1,2,3,4,5,6])\n",
    "print(arr)\n",
    "for x in np.ndenumerate(arr):\n",
    "    print(x)"
   ]
  },
  {
   "cell_type": "code",
   "execution_count": 184,
   "id": "95ef68f4",
   "metadata": {},
   "outputs": [
    {
     "name": "stdout",
     "output_type": "stream",
     "text": [
      "[1 2 3 4 5 6]\n"
     ]
    }
   ],
   "source": [
    "arr = np.array([1,2,3])\n",
    "arr1 = np.array([4,5,6])\n",
    "arr2 = np.concatenate((arr,arr1))\n",
    "print(arr2)"
   ]
  },
  {
   "cell_type": "code",
   "execution_count": 185,
   "id": "584d0bdb",
   "metadata": {},
   "outputs": [
    {
     "name": "stdout",
     "output_type": "stream",
     "text": [
      "[[11 12 13 14 15 16]]\n"
     ]
    }
   ],
   "source": [
    "arr = np.array([[11,12,13]])\n",
    "arr1 = np.array([[14,15,16]])\n",
    "arr2 = np.concatenate((arr,arr1),axis=1)\n",
    "print(arr2)"
   ]
  },
  {
   "cell_type": "code",
   "execution_count": 189,
   "id": "e724846b",
   "metadata": {},
   "outputs": [
    {
     "name": "stdout",
     "output_type": "stream",
     "text": [
      "[10 20 30 40 50]\n",
      "[10 20 30 40 50]\n",
      "[[10 20 30]\n",
      " [40 50 60]]\n",
      "[[10 20 30]\n",
      " [40 50 60]]\n"
     ]
    },
    {
     "data": {
      "text/plain": [
       "30"
      ]
     },
     "execution_count": 189,
     "metadata": {},
     "output_type": "execute_result"
    }
   ],
   "source": [
    "ar = np.array([10,20,30,40,50])\n",
    "print(ar)\n",
    "a = np.stack(ar)\n",
    "print(a)\n",
    "ar = np.array([[10,20,30],[40,50,60]])\n",
    "print(ar)\n",
    "a = np.stack(ar)\n",
    "print(a)\n",
    "a[0][1]\n",
    "a[0][2]"
   ]
  },
  {
   "cell_type": "code",
   "execution_count": 191,
   "id": "8db34a5a",
   "metadata": {},
   "outputs": [
    {
     "name": "stdout",
     "output_type": "stream",
     "text": [
      "[1 2 3 4 5]\n",
      "[1 2 3 4 5]\n",
      "[[10 20 30]\n",
      " [40 50 60]]\n",
      "[10 20 30 40 50 60]\n"
     ]
    }
   ],
   "source": [
    "a = np.array([1,2,3,4,5])\n",
    "print(a)\n",
    "b = np.hstack(a)\n",
    "print(b)\n",
    "a = np.array([[10,20,30],[40,50,60]])\n",
    "print(a)\n",
    "b = np.hstack(a)\n",
    "print(b)"
   ]
  },
  {
   "cell_type": "code",
   "execution_count": 192,
   "id": "68e2fc88",
   "metadata": {},
   "outputs": [
    {
     "name": "stdout",
     "output_type": "stream",
     "text": [
      "[[[1 2 3]\n",
      "  [4 5 6]]]\n",
      "[[1 2 3]\n",
      " [4 5 6]]\n"
     ]
    }
   ],
   "source": [
    "a = np.array([[[1,2,3],[4,5,6]]])\n",
    "print(a)\n",
    "b = np.vstack(a)\n",
    "print(b)"
   ]
  },
  {
   "cell_type": "code",
   "execution_count": 195,
   "id": "38dcad6d",
   "metadata": {},
   "outputs": [
    {
     "name": "stdout",
     "output_type": "stream",
     "text": [
      "[[[1 4]\n",
      "  [2 5]\n",
      "  [3 6]]]\n"
     ]
    }
   ],
   "source": [
    "a = np.array([1,2,3])\n",
    "b = np.array([4,5,6])\n",
    "c = np.dstack((a,b))\n",
    "print(c)"
   ]
  },
  {
   "cell_type": "code",
   "execution_count": 198,
   "id": "9e5c1468",
   "metadata": {},
   "outputs": [
    {
     "name": "stdout",
     "output_type": "stream",
     "text": [
      "[1 2 3 4 5 6 7 8]\n",
      "[array([1, 2, 3, 4]), array([5, 6, 7, 8])]\n",
      "[[1 2 3]\n",
      " [4 5 6]]\n",
      "[array([[1, 2, 3]]), array([[4, 5, 6]])]\n"
     ]
    }
   ],
   "source": [
    "arr = np.array([1,2,3,4,5,6,7,8])\n",
    "print(arr)\n",
    "b = np.split(arr,2)\n",
    "print(b)\n",
    "arr = np.array([[1,2,3],[4,5,6]])\n",
    "print(arr)\n",
    "a = np.array_split(arr,2)\n",
    "print(a)"
   ]
  },
  {
   "cell_type": "code",
   "execution_count": 200,
   "id": "6dfe07ce",
   "metadata": {},
   "outputs": [
    {
     "name": "stdout",
     "output_type": "stream",
     "text": [
      "[[1 2 3 4 5 6]]\n",
      "[array([[1, 2, 3]]), array([[4, 5, 6]])]\n",
      "[array([[[1, 2],\n",
      "        [4, 5]]]), array([[[3],\n",
      "        [6]]])]\n"
     ]
    }
   ],
   "source": [
    "arr = np.array([[1,2,3,4,5,6]])\n",
    "print(arr)\n",
    "a = np.split(arr,2,axis=1)\n",
    "print(a)\n",
    "arr = np.array([[[1,2,3],[4,5,6]]])\n",
    "a = np.array_split(arr,2,axis=2)\n",
    "print(a)"
   ]
  },
  {
   "cell_type": "code",
   "execution_count": 202,
   "id": "6a1b1f0a",
   "metadata": {},
   "outputs": [
    {
     "name": "stdout",
     "output_type": "stream",
     "text": [
      "(array([1], dtype=int64),)\n",
      "[[1 2 3]\n",
      " [4 5 6]]\n",
      "(array([1], dtype=int64), array([0], dtype=int64))\n"
     ]
    }
   ],
   "source": [
    "a = np.array([1,2,3,4,5,6])\n",
    "a = np.where(a==2)\n",
    "print(a)\n",
    "ar = np.array([[1,2,3],[4,5,6]])\n",
    "print(ar)\n",
    "b = np.where(ar==4)\n",
    "print(b)"
   ]
  },
  {
   "cell_type": "code",
   "execution_count": 204,
   "id": "391a26cd",
   "metadata": {},
   "outputs": [
    {
     "name": "stdout",
     "output_type": "stream",
     "text": [
      "[[1 2 3]\n",
      " [4 5 6]]\n",
      "[[2 3 4]\n",
      " [5 6 7]]\n",
      "[[0 1 2]\n",
      " [3 4 5]]\n"
     ]
    }
   ],
   "source": [
    "a = np.array([[1,2,3],[4,5,6]])\n",
    "print(a)\n",
    "print(a+1)\n",
    "print(a-1)"
   ]
  },
  {
   "cell_type": "code",
   "execution_count": 205,
   "id": "fe74c46e",
   "metadata": {},
   "outputs": [
    {
     "name": "stdout",
     "output_type": "stream",
     "text": [
      "[[1 2 3]\n",
      " [4 5 6]]\n",
      "(array([0, 1, 1], dtype=int64), array([1, 0, 2], dtype=int64))\n"
     ]
    }
   ],
   "source": [
    "a = np.array([[1,2,3],[4,5,6]])\n",
    "print(a)\n",
    "b = np.where(a%2==0)\n",
    "print(b)"
   ]
  },
  {
   "cell_type": "code",
   "execution_count": 206,
   "id": "a834eaad",
   "metadata": {},
   "outputs": [
    {
     "name": "stdout",
     "output_type": "stream",
     "text": [
      "[1 2 4 5 6]\n",
      "2\n"
     ]
    }
   ],
   "source": [
    "a = np.array([1,2,4,5,6])\n",
    "print(a)\n",
    "b = np.searchsorted(a,3)\n",
    "print(b)"
   ]
  },
  {
   "cell_type": "code",
   "execution_count": 207,
   "id": "0c8bf7be",
   "metadata": {},
   "outputs": [
    {
     "name": "stdout",
     "output_type": "stream",
     "text": [
      "[1 2 3 4 5 6 7 8]\n",
      "4\n"
     ]
    }
   ],
   "source": [
    "a = np.array([1,2,3,4,5,6,7,8])\n",
    "print(a)\n",
    "b = np.searchsorted(a,4,side='right')\n",
    "print(b)\n"
   ]
  },
  {
   "cell_type": "code",
   "execution_count": 208,
   "id": "1b7c97e7",
   "metadata": {},
   "outputs": [
    {
     "name": "stdout",
     "output_type": "stream",
     "text": [
      "[1 3 5 7 9]\n",
      "[1 2 3]\n"
     ]
    }
   ],
   "source": [
    "a = np.array([1,3,5,7,9])\n",
    "print(a)\n",
    "b = np.searchsorted(a,[2,4,6])\n",
    "print(b)"
   ]
  },
  {
   "cell_type": "code",
   "execution_count": 209,
   "id": "b2a5b75f",
   "metadata": {},
   "outputs": [
    {
     "name": "stdout",
     "output_type": "stream",
     "text": [
      "[3 5 7 6 4]\n",
      "[3 4 5 6 7]\n"
     ]
    }
   ],
   "source": [
    "a = np.array([3,5,7,6,4])\n",
    "print(a)\n",
    "b = np.sort(a)\n",
    "print(b)"
   ]
  },
  {
   "cell_type": "code",
   "execution_count": 212,
   "id": "e1581308",
   "metadata": {},
   "outputs": [
    {
     "name": "stdout",
     "output_type": "stream",
     "text": [
      "['bb' 'ff' 'rr' 'tt' 'aa']\n",
      "['aa' 'bb' 'ff' 'rr' 'tt']\n",
      "[ True False]\n",
      "[False  True]\n"
     ]
    }
   ],
   "source": [
    "a = np.array(['bb','ff','rr','tt','aa'])\n",
    "print(a)\n",
    "b = np.sort(a)\n",
    "print(b)\n",
    "a = np.array([True,False])\n",
    "print(a)\n",
    "b = np.sort(a)\n",
    "print(b)"
   ]
  },
  {
   "cell_type": "code",
   "execution_count": 214,
   "id": "3edc9501",
   "metadata": {},
   "outputs": [
    {
     "name": "stdout",
     "output_type": "stream",
     "text": [
      "[[1 2 3]\n",
      " [6 5 4]]\n",
      "[[1 2 3]\n",
      " [6 5 4]]\n",
      "[[1 2 3]\n",
      " [4 5 6]]\n"
     ]
    }
   ],
   "source": [
    "a = np.array([[1,2,3],[6,5,4]])\n",
    "print(a)\n",
    "b = np.sort(a,axis=0)\n",
    "print(b)\n",
    "c = np.sort(a,axis=1)\n",
    "print(c)"
   ]
  },
  {
   "cell_type": "code",
   "execution_count": 215,
   "id": "03e89c16",
   "metadata": {},
   "outputs": [
    {
     "name": "stdout",
     "output_type": "stream",
     "text": [
      "[1 2]\n"
     ]
    }
   ],
   "source": [
    "a = np.array([1,3,2,4])\n",
    "b = [True,False,True,False]\n",
    "c = a[b]\n",
    "print(c)\n"
   ]
  },
  {
   "cell_type": "code",
   "execution_count": 220,
   "id": "b5821c8f",
   "metadata": {},
   "outputs": [
    {
     "name": "stdout",
     "output_type": "stream",
     "text": [
      "[1 2 3 4 5 6 7 8]\n",
      "1\n",
      "2\n",
      "3\n",
      "4\n",
      "5\n",
      "6\n",
      "7\n",
      "8\n",
      "[1 2 3 4 5 6 7 8]\n",
      "[1 3 5 7]\n"
     ]
    }
   ],
   "source": [
    "a = np.array([1,2,3,4,5,6,7,8])\n",
    "print(a)\n",
    "index=[]\n",
    "for i in a:\n",
    "    print(i)\n",
    "    if i%2==1:\n",
    "        index.append(True)\n",
    "    else:\n",
    "        index.append(False)\n",
    "print(a)\n",
    "ar = a[index]\n",
    "print(ar)"
   ]
  },
  {
   "cell_type": "code",
   "execution_count": 224,
   "id": "4e9b46a3",
   "metadata": {},
   "outputs": [
    {
     "name": "stdout",
     "output_type": "stream",
     "text": [
      "[ 0  1  2  3  4  5  6  7  8  9 10 11 12 13 14 15 16 17 18 19]\n",
      "<class 'numpy.ndarray'>\n",
      "[[ 0  1  2  3  4]\n",
      " [ 5  6  7  8  9]\n",
      " [10 11 12 13 14]\n",
      " [15 16 17 18 19]]\n",
      "[[[ 0]\n",
      "  [ 1]\n",
      "  [ 2]\n",
      "  [ 3]\n",
      "  [ 4]]\n",
      "\n",
      " [[ 5]\n",
      "  [ 6]\n",
      "  [ 7]\n",
      "  [ 8]\n",
      "  [ 9]]\n",
      "\n",
      " [[10]\n",
      "  [11]\n",
      "  [12]\n",
      "  [13]\n",
      "  [14]]\n",
      "\n",
      " [[15]\n",
      "  [16]\n",
      "  [17]\n",
      "  [18]\n",
      "  [19]]]\n"
     ]
    }
   ],
   "source": [
    "a = np.arange(20)\n",
    "print(a)\n",
    "print(type(a))\n",
    "b = a.reshape(4,5)\n",
    "print(b)\n",
    "c = a.reshape(4,5,1)\n",
    "print(c)"
   ]
  },
  {
   "cell_type": "code",
   "execution_count": 228,
   "id": "b64baa0e",
   "metadata": {},
   "outputs": [
    {
     "name": "stdout",
     "output_type": "stream",
     "text": [
      "[ 0  1  2  3  4  5  6  7  8  9 10 11 12 13 14 15 16 17 18 19 20 21 22 23\n",
      " 24 25 26 27 28 29]\n",
      "0\n",
      "29\n",
      "29\n",
      "0\n",
      "[ 0  1  2  3  4  5  6  7  8  9 10 11 12 13 14 15 16 17 18 19 20 21 22 23\n",
      " 24 25 26 27 28 29]\n",
      "435\n",
      "14.5\n",
      "(array([ 1,  2,  3,  4,  5,  6,  7,  8,  9, 10, 11, 12, 13, 14, 15, 16, 17,\n",
      "       18, 19, 20, 21, 22, 23, 24, 25, 26, 27, 28, 29], dtype=int64),)\n",
      "[[ 0  1  2  3  4  5]\n",
      " [ 6  7  8  9 10 11]\n",
      " [12 13 14 15 16 17]\n",
      " [18 19 20 21 22 23]\n",
      " [24 25 26 27 28 29]]\n",
      "[ 0  7 14 21 28]\n",
      "[ 0  1  2  3  4  5  6  7  8  9 10 11 12 13 14 15 16 17 18 19 20 21 22 23\n",
      " 24 25 26 27 28 29]\n"
     ]
    }
   ],
   "source": [
    "a = np.arange(30)\n",
    "print(a)\n",
    "print(a.min())\n",
    "print(a.max())\n",
    "print(a.argmax())\n",
    "print(a.argmin())\n",
    "print(a.argsort())\n",
    "print(a.sum())\n",
    "print(a.mean())\n",
    "print(a.nonzero())\n",
    "b = a.reshape(5,6)\n",
    "print(b)\n",
    "print(b.diagonal())\n",
    "print(b.ravel())\n"
   ]
  },
  {
   "cell_type": "code",
   "execution_count": 232,
   "id": "7743fbf3",
   "metadata": {},
   "outputs": [
    {
     "name": "stdout",
     "output_type": "stream",
     "text": [
      "[ 0  1  2  3  4  5  6  7  8  9 10 11 12 13 14 15 16 17 18 19]\n",
      "<class 'numpy.ndarray'>\n",
      "[21.]\n"
     ]
    }
   ],
   "source": [
    "a = np.arange(20)\n",
    "print(a)\n",
    "print(type(a))\n",
    "b = np.linspace(21,2,1)\n",
    "print(b)\n"
   ]
  },
  {
   "cell_type": "code",
   "execution_count": 233,
   "id": "48593148",
   "metadata": {},
   "outputs": [
    {
     "name": "stdout",
     "output_type": "stream",
     "text": [
      "[ 0  1  2  3  4  5  6  7  8  9 10 11 12 13 14 15 16 17 18 19 20 21 22 23\n",
      " 24 25 26 27 28 29]\n",
      "<class 'numpy.ndarray'>\n",
      "[[-0.04207242 -1.15445325 -0.16167752  1.17030544 -1.23455135 -2.27242452]\n",
      " [-0.58381378  0.25616439  0.59255086 -0.5419785   0.33777863  0.1396802 ]\n",
      " [ 0.81890061  0.93264992 -0.03862485  0.36448242  0.59027886 -1.49817725]\n",
      " [-0.33814185 -0.41025999 -1.45803422 -0.0308039   0.57424696  0.73703258]\n",
      " [ 0.78243903  1.17004706  0.09188262  1.50950825  0.37352453  1.75350092]]\n"
     ]
    }
   ],
   "source": [
    "a = np.arange(30)\n",
    "print(a)\n",
    "print(type(a))\n",
    "b = np.random.randn(5,6)\n",
    "print(b)"
   ]
  },
  {
   "cell_type": "code",
   "execution_count": 235,
   "id": "7661624d",
   "metadata": {
    "scrolled": true
   },
   "outputs": [
    {
     "name": "stdout",
     "output_type": "stream",
     "text": [
      "[[1. 0. 0. 0. 0. 0.]\n",
      " [0. 1. 0. 0. 0. 0.]\n",
      " [0. 0. 1. 0. 0. 0.]\n",
      " [0. 0. 0. 1. 0. 0.]\n",
      " [0. 0. 0. 0. 1. 0.]]\n",
      "[[1. 1.]\n",
      " [1. 1.]\n",
      " [1. 1.]\n",
      " [1. 1.]\n",
      " [1. 1.]\n",
      " [1. 1.]\n",
      " [1. 1.]\n",
      " [1. 1.]\n",
      " [1. 1.]\n",
      " [1. 1.]\n",
      " [1. 1.]\n",
      " [1. 1.]\n",
      " [1. 1.]\n",
      " [1. 1.]\n",
      " [1. 1.]]\n"
     ]
    }
   ],
   "source": [
    "a = np.eye(5,6)\n",
    "print(a)\n",
    "b = np.ones((15,2))\n",
    "print(b)\n"
   ]
  },
  {
   "cell_type": "code",
   "execution_count": 242,
   "id": "0dec4d06",
   "metadata": {},
   "outputs": [
    {
     "name": "stdout",
     "output_type": "stream",
     "text": [
      "[ 0  1  2  3  4  5  6  7  8  9 10 11 12 13 14 15 16 17 18 19 20 21 22 23\n",
      " 24]\n",
      "[[2 0]\n",
      " [0 3]]\n",
      "4900\n"
     ]
    }
   ],
   "source": [
    "a = np.arange(25)\n",
    "print(a)\n",
    "b = np.diag([2,3])\n",
    "print(b)\n",
    "a*2\n",
    "b = a.dot(a)\n",
    "print(b)"
   ]
  },
  {
   "cell_type": "code",
   "execution_count": 244,
   "id": "e4c6edef",
   "metadata": {},
   "outputs": [
    {
     "name": "stdout",
     "output_type": "stream",
     "text": [
      "[[1 2 3]\n",
      " [4 5 6]]\n",
      "((0, 0), 1)\n",
      "((0, 1), 2)\n",
      "((0, 2), 3)\n",
      "((1, 0), 4)\n",
      "((1, 1), 5)\n",
      "((1, 2), 6)\n"
     ]
    }
   ],
   "source": [
    "a = np.array([[1,2,3],[4,5,6]])\n",
    "print(a)\n",
    "for x in np.ndenumerate(a):\n",
    "    print(x)\n",
    "    "
   ]
  },
  {
   "cell_type": "code",
   "execution_count": 246,
   "id": "963ceaf2",
   "metadata": {},
   "outputs": [
    {
     "name": "stdout",
     "output_type": "stream",
     "text": [
      "[[[1 2 3]\n",
      "  [4 5 6]]]\n",
      "((0, 0, 0), 1)\n",
      "((0, 0, 1), 2)\n",
      "((0, 0, 2), 3)\n",
      "((0, 1, 0), 4)\n",
      "((0, 1, 1), 5)\n",
      "((0, 1, 2), 6)\n"
     ]
    },
    {
     "data": {
      "text/plain": [
       "array([[1, 2, 3],\n",
       "       [4, 5, 6]])"
      ]
     },
     "execution_count": 246,
     "metadata": {},
     "output_type": "execute_result"
    }
   ],
   "source": [
    "a = np.array([[[1,2,3],[4,5,6]]])\n",
    "print(a)\n",
    "for x in np.ndenumerate(a):\n",
    "    print(x)\n",
    "a[0]    "
   ]
  },
  {
   "cell_type": "code",
   "execution_count": 247,
   "id": "0237cdc6",
   "metadata": {},
   "outputs": [
    {
     "name": "stdout",
     "output_type": "stream",
     "text": [
      "[1 2 3 4 5 6]\n"
     ]
    }
   ],
   "source": [
    "# joining array\n",
    "a = np.array([1,2,3])\n",
    "b = np.array([4,5,6])\n",
    "c = np.concatenate((a,b))\n",
    "print(c)"
   ]
  },
  {
   "cell_type": "code",
   "execution_count": 248,
   "id": "ab73c2fc",
   "metadata": {},
   "outputs": [
    {
     "name": "stdout",
     "output_type": "stream",
     "text": [
      "[[10 20 30 40 50 60]]\n"
     ]
    }
   ],
   "source": [
    "a = np.array([[10,20,30]])\n",
    "b = np.array([[40,50,60]])\n",
    "c = np.concatenate((a,b),axis=1)\n",
    "print(c)"
   ]
  },
  {
   "cell_type": "code",
   "execution_count": 256,
   "id": "9d666d0a",
   "metadata": {},
   "outputs": [
    {
     "name": "stdout",
     "output_type": "stream",
     "text": [
      "[[1 2 3]\n",
      " [4 5 6]]\n",
      "[[[[10 20 30]]]\n",
      "\n",
      "\n",
      " [[[40 50 60]]]]\n",
      "[[10 20 30]]\n"
     ]
    }
   ],
   "source": [
    "a = np.array([1,2,3])\n",
    "b = np.array([4,5,6])\n",
    "c = np.stack((a,b))\n",
    "print(c)\n",
    "a = np.array([[[10,20,30]]])\n",
    "b = np.array([[[40,50,60]]])\n",
    "c = np.stack((a,b))\n",
    "print(c)\n",
    "print(c[0][0])"
   ]
  },
  {
   "cell_type": "code",
   "execution_count": 258,
   "id": "6784280e",
   "metadata": {},
   "outputs": [
    {
     "name": "stdout",
     "output_type": "stream",
     "text": [
      "[[10 20 30 40 50 60]]\n"
     ]
    }
   ],
   "source": [
    "a = np.array([[10,20,30]])\n",
    "b = np.array([[40,50,60]])\n",
    "c = np.hstack((a,b))\n",
    "print(c)"
   ]
  },
  {
   "cell_type": "code",
   "execution_count": 259,
   "id": "5c2ac7c9",
   "metadata": {},
   "outputs": [
    {
     "name": "stdout",
     "output_type": "stream",
     "text": [
      "[[[1 2 3]]\n",
      "\n",
      " [[4 5 6]]]\n"
     ]
    }
   ],
   "source": [
    "a = np.array([[[1,2,3]]])\n",
    "b = np.array([[[4,5,6]]])\n",
    "c = np.vstack((a,b))\n",
    "print(c)"
   ]
  },
  {
   "cell_type": "code",
   "execution_count": 260,
   "id": "80e00df2",
   "metadata": {},
   "outputs": [
    {
     "name": "stdout",
     "output_type": "stream",
     "text": [
      "[[[1 4]\n",
      "  [2 5]\n",
      "  [3 6]]]\n"
     ]
    }
   ],
   "source": [
    "a = np.array([[1,2,3]])\n",
    "b = np.array([[4,5,6]])\n",
    "c = np.dstack((a,b))\n",
    "print(c)"
   ]
  },
  {
   "cell_type": "code",
   "execution_count": 263,
   "id": "686e283a",
   "metadata": {},
   "outputs": [
    {
     "name": "stdout",
     "output_type": "stream",
     "text": [
      "[10 20 30 40 50 60]\n",
      "[array([10, 20, 30]), array([40, 50, 60])]\n",
      "[array([10, 20]), array([30, 40]), array([50, 60])]\n"
     ]
    }
   ],
   "source": [
    "a = np.array([10,20,30,40,50,60])\n",
    "print(a)\n",
    "b = np.split(a,2)\n",
    "print(b)\n",
    "c = np.split(a,3)\n",
    "print(c)"
   ]
  },
  {
   "cell_type": "code",
   "execution_count": 268,
   "id": "7f6380c7",
   "metadata": {},
   "outputs": [
    {
     "name": "stdout",
     "output_type": "stream",
     "text": [
      "[[11 12 13 14 15 16 17 18]]\n",
      "[array([[11, 12, 13, 14, 15, 16, 17, 18]])]\n",
      "[array([[11, 12, 13, 14]]), array([[15, 16, 17, 18]])]\n"
     ]
    }
   ],
   "source": [
    "a = np.array([[11,12,13,14,15,16,17,18]])\n",
    "print(a)\n",
    "b = np.split(a,1)\n",
    "print(b)\n",
    "c = np.split(a,2,axis=1)\n",
    "print(c)"
   ]
  },
  {
   "cell_type": "code",
   "execution_count": 270,
   "id": "f0eb70ee",
   "metadata": {},
   "outputs": [
    {
     "name": "stdout",
     "output_type": "stream",
     "text": [
      "[1 2 3 4 5 6 7 8]\n",
      "[array([1, 2]), array([3, 4]), array([5, 6]), array([7, 8])]\n",
      "[array([1, 2]), array([3, 4]), array([5, 6]), array([7]), array([8])]\n"
     ]
    }
   ],
   "source": [
    "a = np.array([1,2,3,4,5,6,7,8])\n",
    "print(a)\n",
    "b = np.array_split(a,4)\n",
    "print(b)\n",
    "c = np.array_split(a,5,axis=0)\n",
    "print(c)"
   ]
  },
  {
   "cell_type": "code",
   "execution_count": 271,
   "id": "c5878935",
   "metadata": {},
   "outputs": [
    {
     "name": "stdout",
     "output_type": "stream",
     "text": [
      "[[10 20 30 40 50 60]]\n",
      "[array([[10, 20]]), array([[30, 40]]), array([[50, 60]])]\n"
     ]
    }
   ],
   "source": [
    "a = np.array([[10,20,30,40,50,60]])\n",
    "print(a)\n",
    "b = np.array_split(a,3,axis=1)\n",
    "print(b)\n"
   ]
  },
  {
   "cell_type": "code",
   "execution_count": 272,
   "id": "46083415",
   "metadata": {},
   "outputs": [
    {
     "name": "stdout",
     "output_type": "stream",
     "text": [
      "[[[11 22 33 44 55 66]]]\n",
      "[array([[[11, 22]]]), array([[[33, 44]]]), array([[[55, 66]]])]\n"
     ]
    }
   ],
   "source": [
    "a = np.array([[[11,22,33,44,55,66]]])\n",
    "print(a)\n",
    "b = np.array_split(a,3,axis=2)\n",
    "print(b)\n"
   ]
  },
  {
   "cell_type": "code",
   "execution_count": 279,
   "id": "b2206997",
   "metadata": {},
   "outputs": [
    {
     "name": "stdout",
     "output_type": "stream",
     "text": [
      "[1 2 3 4 5 6 7 8]\n",
      "(array([1], dtype=int64),)\n",
      "[[1 2 3]\n",
      " [4 5 6]]\n",
      "(array([0, 1, 1], dtype=int64), array([1, 0, 2], dtype=int64))\n",
      "[[0 1 2]\n",
      " [3 4 5]]\n",
      "[[1 2 3]\n",
      " [4 5 6]]\n",
      "[[1 0 1]\n",
      " [0 1 0]]\n"
     ]
    }
   ],
   "source": [
    "a = np.array([1,2,3,4,5,6,7,8])\n",
    "print(a)\n",
    "b = np.where(a==2)\n",
    "print(b)\n",
    "a = np.array([[1,2,3],[4,5,6]])\n",
    "print(a)\n",
    "b = np.where(a%2==0)\n",
    "print(b)\n",
    "a\n",
    "print(a-1)\n",
    "print(a**1)\n",
    "print(a%2)"
   ]
  },
  {
   "cell_type": "code",
   "execution_count": 282,
   "id": "d6bead63",
   "metadata": {},
   "outputs": [
    {
     "name": "stdout",
     "output_type": "stream",
     "text": [
      "[1 2 3 4 5 6 7 8]\n",
      "(array([0, 2, 4, 6], dtype=int64),)\n"
     ]
    }
   ],
   "source": [
    "a= np.array([1,2,3,4,5,6,7,8])\n",
    "print(a)\n",
    "b = np.where(a%2==1)\n",
    "print(b)\n"
   ]
  },
  {
   "cell_type": "code",
   "execution_count": 283,
   "id": "d9b2bb1f",
   "metadata": {},
   "outputs": [
    {
     "name": "stdout",
     "output_type": "stream",
     "text": [
      "[1 2 3 4 5 6 7]\n",
      "3\n"
     ]
    }
   ],
   "source": [
    "a = np.array([1,2,3,4,5,6,7])\n",
    "print(a)\n",
    "b = np.searchsorted(a,4)\n",
    "print(b)"
   ]
  },
  {
   "cell_type": "code",
   "execution_count": 284,
   "id": "6043d9d6",
   "metadata": {},
   "outputs": [
    {
     "name": "stdout",
     "output_type": "stream",
     "text": [
      "[1 2 3 4 5 6 7 8]\n",
      "3\n"
     ]
    }
   ],
   "source": [
    "a = np.array([1,2,3,4,5,6,7,8])\n",
    "print(a)\n",
    "b = np.searchsorted(a,4,side='left')\n",
    "print(b)"
   ]
  },
  {
   "cell_type": "code",
   "execution_count": 285,
   "id": "aaf6647c",
   "metadata": {},
   "outputs": [
    {
     "name": "stdout",
     "output_type": "stream",
     "text": [
      "[1 2 3]\n"
     ]
    }
   ],
   "source": [
    "a = np.array([1,3,5,7])\n",
    "b = np.searchsorted(a,[2,4,6])\n",
    "print(b)"
   ]
  },
  {
   "cell_type": "code",
   "execution_count": 286,
   "id": "aece7001",
   "metadata": {},
   "outputs": [
    {
     "name": "stdout",
     "output_type": "stream",
     "text": [
      "[[2 3 4 5 6 7 8]]\n"
     ]
    }
   ],
   "source": [
    "a = np.array([[3,5,4,7,6,8,2]])\n",
    "b = np.sort(a)\n",
    "print(b)"
   ]
  },
  {
   "cell_type": "code",
   "execution_count": 287,
   "id": "66dac0ba",
   "metadata": {},
   "outputs": [
    {
     "name": "stdout",
     "output_type": "stream",
     "text": [
      "['gg' 'aa' 'uu' 'cc']\n",
      "['aa' 'cc' 'gg' 'uu']\n"
     ]
    }
   ],
   "source": [
    "a = np.array(['gg','aa','uu','cc'])\n",
    "print(a)\n",
    "b = np.sort(a)\n",
    "print(b)"
   ]
  },
  {
   "cell_type": "code",
   "execution_count": 288,
   "id": "13bd3ecc",
   "metadata": {},
   "outputs": [
    {
     "name": "stdout",
     "output_type": "stream",
     "text": [
      "[[[1 2 3]\n",
      "  [4 5 6]]]\n"
     ]
    }
   ],
   "source": [
    "a = np.array([[[1,3,2],[6,5,4]]])\n",
    "b = np.sort(a,axis=2)\n",
    "print(b)"
   ]
  },
  {
   "cell_type": "code",
   "execution_count": 290,
   "id": "356b3d6f",
   "metadata": {},
   "outputs": [
    {
     "name": "stdout",
     "output_type": "stream",
     "text": [
      "[1 3]\n"
     ]
    }
   ],
   "source": [
    "a = np.array([[1,2,3]])\n",
    "b = [[True,False,True]]\n",
    "c = a[b]\n",
    "print(c)"
   ]
  },
  {
   "cell_type": "code",
   "execution_count": 291,
   "id": "ac2e4346",
   "metadata": {},
   "outputs": [
    {
     "name": "stdout",
     "output_type": "stream",
     "text": [
      "[1 2 3 4 5]\n",
      "1\n",
      "2\n",
      "3\n",
      "4\n",
      "5\n",
      "[True, True, True, True, False]\n",
      "[1 2 3 4]\n"
     ]
    }
   ],
   "source": [
    "a= np.array([1,2,3,4,5])\n",
    "print(a)\n",
    "index=[]\n",
    "for i in a:\n",
    "    print(i)\n",
    "    if i<5:\n",
    "        index.append(True)\n",
    "    else:\n",
    "        index.append(False)\n",
    "print(index)\n",
    "ar = a[index]\n",
    "print(ar)\n",
    "    "
   ]
  },
  {
   "cell_type": "code",
   "execution_count": 295,
   "id": "3304f889",
   "metadata": {},
   "outputs": [
    {
     "name": "stdout",
     "output_type": "stream",
     "text": [
      "[ 0  1  2  3  4  5  6  7  8  9 10 11 12 13 14 15 16 17 18 19 20 21 22 23\n",
      " 24 25 26 27 28 29]\n",
      "<class 'numpy.ndarray'>\n",
      "0\n",
      "29\n",
      "29\n",
      "0\n",
      "[ 0  1  2  3  4  5  6  7  8  9 10 11 12 13 14 15 16 17 18 19 20 21 22 23\n",
      " 24 25 26 27 28 29]\n",
      "435\n",
      "14.5\n",
      "(array([ 1,  2,  3,  4,  5,  6,  7,  8,  9, 10, 11, 12, 13, 14, 15, 16, 17,\n",
      "       18, 19, 20, 21, 22, 23, 24, 25, 26, 27, 28, 29], dtype=int64),)\n",
      "[[ 0  1  2  3  4  5]\n",
      " [ 6  7  8  9 10 11]\n",
      " [12 13 14 15 16 17]\n",
      " [18 19 20 21 22 23]\n",
      " [24 25 26 27 28 29]]\n",
      "[ 0  7 14 21 28]\n",
      "[ 0  1  2  3  4  5  6  7  8  9 10 11 12 13 14 15 16 17 18 19 20 21 22 23\n",
      " 24 25 26 27 28 29]\n"
     ]
    }
   ],
   "source": [
    "a = np.arange(30)\n",
    "print(a)\n",
    "print(type(a))\n",
    "print(a.min())\n",
    "print(a.max())\n",
    "print(a.argmax())\n",
    "print(a.argmin())\n",
    "print(a.argsort())\n",
    "print(a.sum())\n",
    "print(a.mean())\n",
    "print(a.nonzero())\n",
    "b = a.reshape(5,6)\n",
    "print(b)\n",
    "print(b.diagonal())\n",
    "print(b.ravel())"
   ]
  },
  {
   "cell_type": "code",
   "execution_count": 303,
   "id": "38ff7ca4",
   "metadata": {},
   "outputs": [
    {
     "name": "stdout",
     "output_type": "stream",
     "text": [
      "[ 0  1  2  3  4  5  6  7  8  9 10 11 12 13 14 15 16 17 18 19 20 21 22 23\n",
      " 24]\n",
      "[5. 5.]\n",
      "[[-1.45420633 -0.05001429 -0.49024848  0.36010944 -0.94593767]\n",
      " [-1.33745413  1.0791032  -0.30176649 -0.96619692 -1.36240505]\n",
      " [ 0.50147852 -1.29305138  0.27055342 -0.12138099  0.29889121]\n",
      " [-0.45588661  1.51579213 -2.04016664 -0.57470103  1.60477349]\n",
      " [-0.78976636  2.37958183  0.54253977 -1.52559254 -0.21970047]]\n",
      "[[1. 0. 0. 0. 0.]\n",
      " [0. 1. 0. 0. 0.]\n",
      " [0. 0. 1. 0. 0.]\n",
      " [0. 0. 0. 1. 0.]\n",
      " [0. 0. 0. 0. 1.]]\n",
      "[[1. 1. 1. 1. 1.]\n",
      " [1. 1. 1. 1. 1.]\n",
      " [1. 1. 1. 1. 1.]\n",
      " [1. 1. 1. 1. 1.]\n",
      " [1. 1. 1. 1. 1.]]\n",
      "[[2 0 0]\n",
      " [0 3 0]\n",
      " [0 0 4]]\n",
      "[[ 4  0  0]\n",
      " [ 0  9  0]\n",
      " [ 0  0 16]]\n"
     ]
    }
   ],
   "source": [
    "a = np.arange(25)\n",
    "print(a)\n",
    "b = np.linspace(5,5,2)\n",
    "print(b)\n",
    "b = np.random.randn(5,5)\n",
    "print(b)\n",
    "c = np.eye(5,5)\n",
    "print(c)\n",
    "d = np.ones((5,5))\n",
    "print(d)\n",
    "e = np.diag([2,3,4])\n",
    "print(e)\n",
    "z = e.dot(e)\n",
    "print(z)"
   ]
  },
  {
   "cell_type": "code",
   "execution_count": null,
   "id": "e28911f6",
   "metadata": {},
   "outputs": [],
   "source": []
  }
 ],
 "metadata": {
  "kernelspec": {
   "display_name": "Python 3 (ipykernel)",
   "language": "python",
   "name": "python3"
  },
  "language_info": {
   "codemirror_mode": {
    "name": "ipython",
    "version": 3
   },
   "file_extension": ".py",
   "mimetype": "text/x-python",
   "name": "python",
   "nbconvert_exporter": "python",
   "pygments_lexer": "ipython3",
   "version": "3.10.3"
  }
 },
 "nbformat": 4,
 "nbformat_minor": 5
}
